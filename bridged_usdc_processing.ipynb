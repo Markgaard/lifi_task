{
 "cells": [
  {
   "cell_type": "code",
   "execution_count": 665,
   "metadata": {},
   "outputs": [],
   "source": [
    "import pandas as pd\n",
    "import json\n",
    "import glob\n",
    "import re"
   ]
  },
  {
   "cell_type": "code",
   "execution_count": 666,
   "metadata": {},
   "outputs": [],
   "source": [
    "csv_files = glob.glob('./output/target_chain_in_usdc/*.csv')\n",
    "dfs = [pd.read_csv(file) for file in csv_files]\n",
    "df = pd.concat(dfs, ignore_index=True)"
   ]
  },
  {
   "cell_type": "code",
   "execution_count": 667,
   "metadata": {},
   "outputs": [],
   "source": [
    "df['response'] = df['response'].apply(json.loads)"
   ]
  },
  {
   "cell_type": "code",
   "execution_count": 668,
   "metadata": {},
   "outputs": [],
   "source": [
    "def extract_attribute(response, keys):\n",
    "    message = response.get(\"message\")\n",
    "    \n",
    "    if message:\n",
    "        if re.search(r\"The chain with ID \\d+ is currently disabled\", message):\n",
    "            return 'disabled'\n",
    "        if re.search(r\"Could not find token USDC on chain \\d+\", message):\n",
    "            return 'no_token'\n",
    "        elif message == \"No available quotes for the requested transfer\":\n",
    "            return 'error'\n",
    "        elif message == \"The same token cannot be used as both the source and destination token.\":\n",
    "            return 'exclude'\n",
    "    \n",
    "    result = response\n",
    "    for key in keys:\n",
    "        if isinstance(result, dict):\n",
    "            result = result.get(key)\n",
    "        elif isinstance(result, list) and isinstance(key, int):\n",
    "            if key < len(result):\n",
    "                result = result[key]\n",
    "            else:\n",
    "                return None\n",
    "        else:\n",
    "            return None\n",
    "    return result"
   ]
  },
  {
   "cell_type": "code",
   "execution_count": 669,
   "metadata": {},
   "outputs": [],
   "source": [
    "attributes = [\n",
    "    ('bridge', ['toolDetails', 'name']),\n",
    "    ('source_chain', ['action', 'fromChainId']),\n",
    "    ('sent_token', ['action', 'fromToken', 'symbol']),\n",
    "    ('sent_amount', ['action', 'fromAmount']),\n",
    "    ('target_chain', ['action', 'toChainId']),\n",
    "    ('recived_token', ['action', 'toToken', 'symbol']),\n",
    "    ('est_recived_amount', ['estimate', 'toAmount']),\n",
    "    ('est_tx_fee', ['estimate', 'feeCosts', 0, 'amountUSD']),\n",
    "    ('router_fee_usd', ['estimate', 'feeCosts', 0, 'amountUSD']),\n",
    "    ('relayer_fee_usd', ['estimate', 'feeCosts', 1, 'amountUSD']),\n",
    "    ('est_gas_cost_usd', ['estimate', 'gasCosts', 0, 'amountUSD']),\n",
    "    ('gas_symbol', ['estimate', 'gasCosts', 0, 'token', 'symbol']),\n",
    "    ('est_amount_sent_usd', ['estimate', 'fromAmountUSD']),\n",
    "    ('est_amount_recived_usd', ['estimate', 'toAmountUSD'])\n",
    "]\n",
    "\n",
    "for col_name, keys in attributes:\n",
    "    df[col_name] = df['response'].apply(lambda x: extract_attribute(x, keys))\n",
    "\n",
    "df['action_present'] = df['response'].apply(lambda x: 'action' in x)"
   ]
  },
  {
   "cell_type": "code",
   "execution_count": 670,
   "metadata": {},
   "outputs": [],
   "source": [
    "chain_id_labels = {\n",
    "    1: 'Ethereum',\n",
    "    10: 'Optimism',\n",
    "    25: 'Cronos',\n",
    "    56: 'Binance',\n",
    "    66: 'OKEX',\n",
    "    100: 'Gnosis',\n",
    "    106: 'Velas',\n",
    "    122: 'Fuse',\n",
    "    137: 'Polygon',\n",
    "    250: 'Fantom',\n",
    "    288: 'Boba',\n",
    "    324: 'zkSync Era',\n",
    "    1101: 'Polygon zkEVM',\n",
    "    1284: 'Moonbeam',\n",
    "    1285: 'Moonriver',\n",
    "    8453: 'Base',\n",
    "    9001: 'Evmos',\n",
    "    42161: 'Arbitrum',\n",
    "    42220: 'Celo',\n",
    "    43114: 'Avalanche',\n",
    "    59144: 'Linea',\n",
    "    1313161554: 'Aurora',\n",
    "    1666600000: 'Harmony'\n",
    "}\n",
    "\n",
    "def replace_with_labels(chain_id):\n",
    "    return [chain_id_labels.get(chain, chain) for chain in chain_id]\n",
    "\n",
    "df['source_chain'] = df['source_chain'].replace(chain_id_labels)\n",
    "df['target_chain'] = df['target_chain'].replace(chain_id_labels)"
   ]
  },
  {
   "cell_type": "code",
   "execution_count": 671,
   "metadata": {},
   "outputs": [],
   "source": [
    "df = df.drop(['response'], axis=1)\n",
    "df = df[df['bridge'] != 'exclude']\n",
    "\n",
    "df.reset_index(drop=True, inplace=True)"
   ]
  },
  {
   "cell_type": "code",
   "execution_count": 672,
   "metadata": {},
   "outputs": [],
   "source": [
    "df.to_csv('./output/usdc_transfer_quotes.csv', index=False)"
   ]
  }
 ],
 "metadata": {
  "kernelspec": {
   "display_name": ".venv",
   "language": "python",
   "name": "python3"
  },
  "language_info": {
   "codemirror_mode": {
    "name": "ipython",
    "version": 3
   },
   "file_extension": ".py",
   "mimetype": "text/x-python",
   "name": "python",
   "nbconvert_exporter": "python",
   "pygments_lexer": "ipython3",
   "version": "3.12.0"
  }
 },
 "nbformat": 4,
 "nbformat_minor": 2
}
